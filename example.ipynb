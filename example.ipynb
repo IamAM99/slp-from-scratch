{
 "cells": [
  {
   "cell_type": "markdown",
   "metadata": {},
   "source": [
    "# SLP Simple Examples"
   ]
  },
  {
   "cell_type": "code",
   "execution_count": 1,
   "metadata": {},
   "outputs": [],
   "source": [
    "import numpy as np\n",
    "from slp import SLP\n",
    "from utils import add_noise"
   ]
  },
  {
   "cell_type": "markdown",
   "metadata": {},
   "source": [
    "## 1. AND Gate Dataset"
   ]
  },
  {
   "cell_type": "markdown",
   "metadata": {},
   "source": [
    "### Create The Dataset"
   ]
  },
  {
   "cell_type": "code",
   "execution_count": 2,
   "metadata": {},
   "outputs": [],
   "source": [
    "X = np.array(\n",
    "    [\n",
    "        [0, 0],\n",
    "        [0, 1],\n",
    "        [1, 0],\n",
    "        [1, 1],\n",
    "    ]\n",
    ")\n",
    "y = np.array([0, 1, 1, 1])"
   ]
  },
  {
   "cell_type": "markdown",
   "metadata": {},
   "source": [
    "### Fit A Network"
   ]
  },
  {
   "cell_type": "code",
   "execution_count": 3,
   "metadata": {},
   "outputs": [
    {
     "name": "stdout",
     "output_type": "stream",
     "text": [
      "############ Training Process Started ############\n",
      "---- Epoch 1\n",
      "Error = 1\n",
      "---- Epoch 2\n",
      "Error = 1\n",
      "---- Epoch 3\n",
      "Error = 1\n",
      "---- Epoch 4\n",
      "Error = 1\n",
      "---- Epoch 5\n",
      "Error = 1\n",
      "############# Training Process Ended #############\n"
     ]
    }
   ],
   "source": [
    "my_slp = SLP(X, y, epochs=5, learning_rate=0.3)\n",
    "my_slp.fit()\n"
   ]
  },
  {
   "cell_type": "markdown",
   "metadata": {},
   "source": [
    "### Evaluation"
   ]
  },
  {
   "cell_type": "code",
   "execution_count": 4,
   "metadata": {},
   "outputs": [
    {
     "name": "stdout",
     "output_type": "stream",
     "text": [
      "Prediction for the last row of X: [1]\n",
      "Predictions for first 2 rows of X: [1 1]\n"
     ]
    }
   ],
   "source": [
    "print(\"Prediction for the last row of X:\", my_slp.predict(X[-1]))\n",
    "print(\"Predictions for first 2 rows of X:\", my_slp.predict(X[:2]))\n"
   ]
  },
  {
   "cell_type": "code",
   "execution_count": 5,
   "metadata": {},
   "outputs": [
    {
     "name": "stdout",
     "output_type": "stream",
     "text": [
      "idx   X       Target  Pred\n",
      "==========================\n",
      "0     [0 0]   0       1   \n",
      "1     [0 1]   1       1   \n",
      "2     [1 0]   1       1   \n",
      "3     [1 1]   1       1   \n",
      "==========================\n",
      "\n",
      "Accuracy = 0.75\n"
     ]
    }
   ],
   "source": [
    "my_slp.evaluate(X, y)\n"
   ]
  },
  {
   "cell_type": "markdown",
   "metadata": {},
   "source": [
    "## 2. 'I' And 'L' Character Classification"
   ]
  },
  {
   "cell_type": "markdown",
   "metadata": {},
   "source": [
    "A network to classify 'I' and 'L' characters."
   ]
  },
  {
   "cell_type": "markdown",
   "metadata": {},
   "source": [
    "### Create The Dataset"
   ]
  },
  {
   "cell_type": "code",
   "execution_count": 6,
   "metadata": {},
   "outputs": [],
   "source": [
    "# Create the characters\n",
    "L = np.array(\n",
    "    [\n",
    "     [1, 0, 0],\n",
    "     [1, 0, 0],\n",
    "     [1, 1, 1]\n",
    "     ]\n",
    ")\n",
    "\n",
    "I = np.array(\n",
    "    [\n",
    "     [0, 1, 0],\n",
    "     [0, 1, 0],\n",
    "     [0, 1, 0]\n",
    "    ]\n",
    ")"
   ]
  },
  {
   "cell_type": "code",
   "execution_count": 7,
   "metadata": {},
   "outputs": [],
   "source": [
    "# Create the inputs and outputs of the network\n",
    "X = np.asarray([L.flatten(), I.flatten()])\n",
    "y = np.array([0, 1])"
   ]
  },
  {
   "cell_type": "code",
   "execution_count": 8,
   "metadata": {},
   "outputs": [],
   "source": [
    "# Make two noisy datasets\n",
    "X_noisy = np.asarray([add_noise(X[0], 0.25), add_noise(X[1], 0.25)])\n",
    "X_very_noisy = np.asarray([add_noise(X[0], 0.5), add_noise(X[1], 0.5)])"
   ]
  },
  {
   "cell_type": "code",
   "execution_count": 9,
   "metadata": {},
   "outputs": [
    {
     "name": "stdout",
     "output_type": "stream",
     "text": [
      "L:\n",
      "[[1 1 0]\n",
      " [1 0 0]\n",
      " [1 0 1]]\n",
      "I:\n",
      "[[1 1 0]\n",
      " [0 1 0]\n",
      " [0 0 0]]\n"
     ]
    }
   ],
   "source": [
    "# X_noisy\n",
    "print(f\"L:\\n{X_noisy[0].reshape((3, 3))}\\nI:\\n{X_noisy[1].reshape((3, 3))}\")"
   ]
  },
  {
   "cell_type": "code",
   "execution_count": 10,
   "metadata": {},
   "outputs": [
    {
     "name": "stdout",
     "output_type": "stream",
     "text": [
      "L:\n",
      "[[1 0 0]\n",
      " [1 1 1]\n",
      " [1 1 1]]\n",
      "I:\n",
      "[[0 1 0]\n",
      " [0 1 0]\n",
      " [1 0 0]]\n"
     ]
    }
   ],
   "source": [
    "# X_very_noisy\n",
    "print(f\"L:\\n{X_very_noisy[0].reshape((3, 3))}\\nI:\\n{X_very_noisy[1].reshape((3, 3))}\")"
   ]
  },
  {
   "cell_type": "markdown",
   "metadata": {},
   "source": [
    "### Fit A Network"
   ]
  },
  {
   "cell_type": "code",
   "execution_count": 11,
   "metadata": {},
   "outputs": [
    {
     "name": "stdout",
     "output_type": "stream",
     "text": [
      "############ Training Process Started ############\n",
      "---- Epoch 1\n",
      "Error = 1\n",
      "---- Epoch 2\n",
      "Error = 0\n",
      "---- Epoch 3\n",
      "Error = 0\n",
      "---- Epoch 4\n",
      "Error = 0\n",
      "---- Epoch 5\n",
      "Error = 0\n",
      "############# Training Process Ended #############\n"
     ]
    }
   ],
   "source": [
    "my_slp = SLP(X, y, epochs=5, learning_rate=0.3)\n",
    "my_slp.fit()"
   ]
  },
  {
   "cell_type": "markdown",
   "metadata": {},
   "source": [
    "### Evaluation"
   ]
  },
  {
   "cell_type": "code",
   "execution_count": 12,
   "metadata": {},
   "outputs": [
    {
     "name": "stdout",
     "output_type": "stream",
     "text": [
      "idx   X                     Target  Pred\n",
      "========================================\n",
      "0     [1 0 0 1 0 0 1 1 1]   0       0   \n",
      "1     [0 1 0 0 1 0 0 1 0]   1       1   \n",
      "========================================\n",
      "\n",
      "Accuracy = 1.0\n"
     ]
    }
   ],
   "source": [
    "my_slp.evaluate(X, y)\n"
   ]
  },
  {
   "cell_type": "code",
   "execution_count": 13,
   "metadata": {},
   "outputs": [
    {
     "name": "stdout",
     "output_type": "stream",
     "text": [
      "idx   X                     Target  Pred\n",
      "========================================\n",
      "0     [1 1 0 1 0 0 1 0 1]   0       0   \n",
      "1     [1 1 0 0 1 0 0 0 0]   1       1   \n",
      "========================================\n",
      "\n",
      "Accuracy = 1.0\n"
     ]
    }
   ],
   "source": [
    "my_slp.evaluate(X_noisy, y)\n"
   ]
  },
  {
   "cell_type": "code",
   "execution_count": 14,
   "metadata": {},
   "outputs": [
    {
     "name": "stdout",
     "output_type": "stream",
     "text": [
      "idx   X                     Target  Pred\n",
      "========================================\n",
      "0     [1 0 0 1 1 1 1 1 1]   0       0   \n",
      "1     [0 1 0 0 1 0 1 0 0]   1       1   \n",
      "========================================\n",
      "\n",
      "Accuracy = 1.0\n"
     ]
    }
   ],
   "source": [
    "my_slp.evaluate(X_very_noisy, y)\n"
   ]
  },
  {
   "cell_type": "code",
   "execution_count": null,
   "metadata": {},
   "outputs": [],
   "source": []
  }
 ],
 "metadata": {
  "kernelspec": {
   "display_name": "Python 3 (ipykernel)",
   "language": "python",
   "name": "python3"
  },
  "language_info": {
   "codemirror_mode": {
    "name": "ipython",
    "version": 3
   },
   "file_extension": ".py",
   "mimetype": "text/x-python",
   "name": "python",
   "nbconvert_exporter": "python",
   "pygments_lexer": "ipython3",
   "version": "3.7.11"
  }
 },
 "nbformat": 4,
 "nbformat_minor": 2
}
